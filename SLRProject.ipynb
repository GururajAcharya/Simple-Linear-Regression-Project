{
  "cells": [
    {
      "cell_type": "markdown",
      "metadata": {
        "id": "SGsoD5S1-3gz"
      },
      "source": [
        "# Simple Linear Regression Project\n",
        "\n",
        "\n",
        "## Modelling the linear relationship between Sales and Advertising dataset\n",
        "\n",
        "\n"
      ]
    },
    {
      "cell_type": "code",
      "source": [
        "!git clone https://github.com/GururajAcharya/Simple-Linear-Regression-Project.git"
      ],
      "metadata": {
        "id": "n8Bi7bSd_d3x",
        "outputId": "a60989bd-eb9f-4455-8ab9-d4a9a8897bfc",
        "colab": {
          "base_uri": "https://localhost:8080/"
        }
      },
      "execution_count": 37,
      "outputs": [
        {
          "output_type": "stream",
          "name": "stdout",
          "text": [
            "fatal: destination path 'Simple-Linear-Regression-Project' already exists and is not an empty directory.\n"
          ]
        }
      ]
    },
    {
      "cell_type": "markdown",
      "metadata": {
        "id": "Asx5b4xL-3g3"
      },
      "source": [
        "## Project overview\n",
        "\n",
        "\n",
        "In this project, I build a Simple Linear Regression model to study the linear relationship between Sales and Advertising dataset for a dietary weight control product.\n",
        "\n"
      ]
    },
    {
      "cell_type": "markdown",
      "metadata": {
        "id": "6a9PVgHs-3g4"
      },
      "source": [
        "###  Linear Regression\n",
        "\n",
        "\n",
        "Linear Regression is a statistical technique which is used to find the linear relationship between dependent and one or more independent variables. This technique is applicable for Supervised learning Regression problems where we try to predict a continuous variable.\n",
        "\n",
        "\n",
        "Linear Regression can be further classified into two types – Simple and Multiple Linear Regression. In this project, I employ Simple Linear Regression technique where I have one independent and one dependent variable. It is the simplest form of Linear Regression where we fit a straight line to the data."
      ]
    },
    {
      "cell_type": "markdown",
      "metadata": {
        "id": "tEpYNDx--3hC"
      },
      "source": [
        "###  Simple Linear Regression (SLR)\n",
        "\n",
        "Simple Linear Regression (or SLR) is the simplest model in machine learning. It models the linear relationship between the independent and dependent variables. \n",
        "\n",
        "In this project, there is one independent or input variable which represents the Sales data and is denoted by X. Similarly, there is one dependent or output variable which represents the Advertising data and is denoted by y. We want to build a linear relationship between these variables. This linear relationship can be modelled by mathematical equation of the form:-\n",
        "\t\t\t\t \n",
        "                 \n",
        "                 Y = β0   + β1*X    -------------   (1)\n",
        "                 \n",
        "\n",
        "In this equation, X and Y are called independent and dependent variables respectively,\n",
        "\n",
        "β1 is the coefficient for independent variable and\n",
        "\n",
        "β0 is the constant term.\n",
        "\n",
        "β0 and β1 are called parameters of the model.\n",
        " \n",
        "\n",
        "\n",
        "For simplicity, we can compare the above equation with the basic line equation of the form:-\n",
        " \n",
        "                   y = ax + b       ----------------- (2)\n",
        "\n",
        "We can see that \n",
        "\n",
        "slope of the line is given by, a =  β1,  and\n",
        "\n",
        "intercept of the line by b =  β0. \n",
        "\n",
        "\n",
        "In this Simple Linear Regression model, we want to fit a line which estimates the linear relationship between X and Y. So, the question of fitting reduces to estimating the parameters of the model β0 and β1. \n",
        "\n",
        " \n",
        "\n",
        "## Ordinary Least Square Method\n",
        "\n",
        "As I have described earlier, the Sales and Advertising data are given by X and y respectively. We can draw a scatter plot between X and y which shows the relationship between them.\n",
        "\n",
        " \n",
        "\n",
        "Now, our task is to find a line which best fits this scatter plot. This line will help us to predict the value of any Target variable for any given Feature variable. This line is called **Regression line**. \n",
        "\n",
        "\n",
        "We can define an error function for any line. Then, the regression line is the one which minimizes the error function. Such an error function is also called a **Cost function**. \n",
        "\n",
        "\n",
        "## Cost Function\n",
        "\n",
        "We want the Regression line to resemble the dataset as closely as possible. In other words, we want the line to be as close to actual data points as possible. It can be achieved by minimizing the vertical distance between the actual data point and fitted line. I calculate the vertical distance between each data point and the line. This distance is called the **residual**. \n",
        "\n",
        "\n",
        "So, in a regression model, we try to minimize the residuals by finding the line of best fit. The residuals are represented by the vertical dotted lines from actual data points to the line.\n",
        "\n",
        " \n",
        "We can try to minimize the sum of the residuals, but then a large positive residual would cancel out a large negative residual. For this reason, we minimize the sum of the squares of the residuals. \n",
        "\n",
        "\n",
        "Mathematically, we denote actual data points by yi and predicted data points by ŷi. So, the residual for a data point i would be given as \n",
        "\t\t\t\t\n",
        "                di = yi -  ŷi\n",
        "\n",
        "Sum of the squares of the residuals is given as:\n",
        "\n",
        "\t\t\t\tD = Ʃ di**2       for all data points\n",
        "                \n",
        "\n",
        "This is the **Cost function**. It denotes the total error present in the model which is the sum of the total errors of each individual data point. \n",
        "\n",
        "We can estimate the parameters of the model β0 and β1 by minimize the error in the model by minimizing D. Thus, we can find the regression line given by equation (1).\n",
        "\n",
        "\n",
        "This method of finding the parameters of the model and thus regression line is called **Ordinary Least Square Method**.\n"
      ]
    },
    {
      "cell_type": "markdown",
      "metadata": {
        "id": "HUmGpVzF-3hD"
      },
      "source": [
        "## The problem statement\n",
        "\n",
        "The aim of building a machine learning model is to solve a problem and to define a metric to measure model performance. \n",
        "\n",
        "The problem is to model and investigate the linear relationship between Sales and Advertising dataset for a dietary weight control product. \n",
        "\n",
        "I have used two performance metrics RMSE (Root Mean Square Value) and R2 Score value to compute our model performance.\n"
      ]
    },
    {
      "cell_type": "markdown",
      "metadata": {
        "id": "0Awkafzj-3hD"
      },
      "source": [
        "## Software information\n",
        "\n",
        "I did this project using Jupyter notebook (Jupyter notebook server 5.5.0).\n",
        "\n",
        "The server is running on Python (Python 3.6.5), Anaconda distribution.\n",
        " \n"
      ]
    },
    {
      "cell_type": "markdown",
      "metadata": {
        "id": "kFZnFrFf-3hE"
      },
      "source": [
        "## Python libraries\n",
        "\n",
        "I have Anaconda Python distribution installed on my system. It comes with most of the standard Python libraries I need for this project. The basic Python libraries used in this project are:-\n",
        "\n",
        " •\tNumpy – It provides a fast numerical array structure and operating functions.\n",
        " \n",
        " •\tpandas – It provides tools for data storage, manipulation and analysis tasks.\n",
        " \n",
        " •\tScikit-Learn – The required machine learning library in Python.\n",
        " \n",
        " •\tMatplotlib – It is the basic plotting library in Python. It provides tools for making plots. \n"
      ]
    },
    {
      "cell_type": "code",
      "execution_count": null,
      "metadata": {
        "id": "NDnuWR73-3hE"
      },
      "outputs": [],
      "source": [
        "# Import necessary libraries\n",
        "\n",
        "import numpy as np\n",
        "import pandas as pd\n",
        "import matplotlib.pyplot as plt\n"
      ]
    },
    {
      "cell_type": "markdown",
      "metadata": {
        "id": "ruh43EYz-3hG"
      },
      "source": [
        "## About the dataset\n",
        "\n",
        "The data set has been imported from the econometrics website with the following url:-\n",
        "\n",
        "http://www.econometrics.com/intro/sales.htm\n",
        "\n",
        "This data set contains Sales and Advertising expenditures for a dietary weight control product. It contains monthly data for 36 months. The variables in this data set are Sales and Advertising.\n",
        "\n",
        "\n"
      ]
    },
    {
      "cell_type": "code",
      "execution_count": 38,
      "metadata": {
        "id": "XAMOF-wP-3hG"
      },
      "outputs": [],
      "source": [
        "# Import the data\n",
        "\n",
        "url = \"/content/runs._.csv\"\n",
        "df = pd.read_csv( \"/content/runs._.csv\")"
      ]
    },
    {
      "cell_type": "markdown",
      "metadata": {
        "id": "fAneqjFE-3hG"
      },
      "source": [
        "## Exploratory data analysis\n",
        "\n",
        "\n",
        "First, I import the dataset into the dataframe with the standard read_csv () function of pandas library and assign it to the df variable. Then, I conducted exploratory data analysis to get a feel for the data.\n",
        "\n",
        "\n",
        "### pandas shape attribute\n",
        "\n",
        "The shape attribute of the pandas dataframe gives the dimensions of the dataframe."
      ]
    },
    {
      "cell_type": "code",
      "source": [
        "df"
      ],
      "metadata": {
        "id": "zOqC2g9JBqji",
        "colab": {
          "base_uri": "https://localhost:8080/",
          "height": 332
        },
        "outputId": "222befb3-9f4f-4c68-8b4b-4dc946e38f42"
      },
      "execution_count": 39,
      "outputs": [
        {
          "output_type": "execute_result",
          "data": {
            "text/plain": [
              "   34   78\n",
              "0  67   77\n",
              "1  67   23\n",
              "2  32   45\n",
              "3  89   23\n",
              "4  24   56\n",
              "5  97   78\n",
              "6  65   69\n",
              "7  23   97\n",
              "8  17  100"
            ],
            "text/html": [
              "\n",
              "  <div id=\"df-c844694c-3c84-4c02-b3e8-e4737b70d923\">\n",
              "    <div class=\"colab-df-container\">\n",
              "      <div>\n",
              "<style scoped>\n",
              "    .dataframe tbody tr th:only-of-type {\n",
              "        vertical-align: middle;\n",
              "    }\n",
              "\n",
              "    .dataframe tbody tr th {\n",
              "        vertical-align: top;\n",
              "    }\n",
              "\n",
              "    .dataframe thead th {\n",
              "        text-align: right;\n",
              "    }\n",
              "</style>\n",
              "<table border=\"1\" class=\"dataframe\">\n",
              "  <thead>\n",
              "    <tr style=\"text-align: right;\">\n",
              "      <th></th>\n",
              "      <th>34</th>\n",
              "      <th>78</th>\n",
              "    </tr>\n",
              "  </thead>\n",
              "  <tbody>\n",
              "    <tr>\n",
              "      <th>0</th>\n",
              "      <td>67</td>\n",
              "      <td>77</td>\n",
              "    </tr>\n",
              "    <tr>\n",
              "      <th>1</th>\n",
              "      <td>67</td>\n",
              "      <td>23</td>\n",
              "    </tr>\n",
              "    <tr>\n",
              "      <th>2</th>\n",
              "      <td>32</td>\n",
              "      <td>45</td>\n",
              "    </tr>\n",
              "    <tr>\n",
              "      <th>3</th>\n",
              "      <td>89</td>\n",
              "      <td>23</td>\n",
              "    </tr>\n",
              "    <tr>\n",
              "      <th>4</th>\n",
              "      <td>24</td>\n",
              "      <td>56</td>\n",
              "    </tr>\n",
              "    <tr>\n",
              "      <th>5</th>\n",
              "      <td>97</td>\n",
              "      <td>78</td>\n",
              "    </tr>\n",
              "    <tr>\n",
              "      <th>6</th>\n",
              "      <td>65</td>\n",
              "      <td>69</td>\n",
              "    </tr>\n",
              "    <tr>\n",
              "      <th>7</th>\n",
              "      <td>23</td>\n",
              "      <td>97</td>\n",
              "    </tr>\n",
              "    <tr>\n",
              "      <th>8</th>\n",
              "      <td>17</td>\n",
              "      <td>100</td>\n",
              "    </tr>\n",
              "  </tbody>\n",
              "</table>\n",
              "</div>\n",
              "      <button class=\"colab-df-convert\" onclick=\"convertToInteractive('df-c844694c-3c84-4c02-b3e8-e4737b70d923')\"\n",
              "              title=\"Convert this dataframe to an interactive table.\"\n",
              "              style=\"display:none;\">\n",
              "        \n",
              "  <svg xmlns=\"http://www.w3.org/2000/svg\" height=\"24px\"viewBox=\"0 0 24 24\"\n",
              "       width=\"24px\">\n",
              "    <path d=\"M0 0h24v24H0V0z\" fill=\"none\"/>\n",
              "    <path d=\"M18.56 5.44l.94 2.06.94-2.06 2.06-.94-2.06-.94-.94-2.06-.94 2.06-2.06.94zm-11 1L8.5 8.5l.94-2.06 2.06-.94-2.06-.94L8.5 2.5l-.94 2.06-2.06.94zm10 10l.94 2.06.94-2.06 2.06-.94-2.06-.94-.94-2.06-.94 2.06-2.06.94z\"/><path d=\"M17.41 7.96l-1.37-1.37c-.4-.4-.92-.59-1.43-.59-.52 0-1.04.2-1.43.59L10.3 9.45l-7.72 7.72c-.78.78-.78 2.05 0 2.83L4 21.41c.39.39.9.59 1.41.59.51 0 1.02-.2 1.41-.59l7.78-7.78 2.81-2.81c.8-.78.8-2.07 0-2.86zM5.41 20L4 18.59l7.72-7.72 1.47 1.35L5.41 20z\"/>\n",
              "  </svg>\n",
              "      </button>\n",
              "      \n",
              "  <style>\n",
              "    .colab-df-container {\n",
              "      display:flex;\n",
              "      flex-wrap:wrap;\n",
              "      gap: 12px;\n",
              "    }\n",
              "\n",
              "    .colab-df-convert {\n",
              "      background-color: #E8F0FE;\n",
              "      border: none;\n",
              "      border-radius: 50%;\n",
              "      cursor: pointer;\n",
              "      display: none;\n",
              "      fill: #1967D2;\n",
              "      height: 32px;\n",
              "      padding: 0 0 0 0;\n",
              "      width: 32px;\n",
              "    }\n",
              "\n",
              "    .colab-df-convert:hover {\n",
              "      background-color: #E2EBFA;\n",
              "      box-shadow: 0px 1px 2px rgba(60, 64, 67, 0.3), 0px 1px 3px 1px rgba(60, 64, 67, 0.15);\n",
              "      fill: #174EA6;\n",
              "    }\n",
              "\n",
              "    [theme=dark] .colab-df-convert {\n",
              "      background-color: #3B4455;\n",
              "      fill: #D2E3FC;\n",
              "    }\n",
              "\n",
              "    [theme=dark] .colab-df-convert:hover {\n",
              "      background-color: #434B5C;\n",
              "      box-shadow: 0px 1px 3px 1px rgba(0, 0, 0, 0.15);\n",
              "      filter: drop-shadow(0px 1px 2px rgba(0, 0, 0, 0.3));\n",
              "      fill: #FFFFFF;\n",
              "    }\n",
              "  </style>\n",
              "\n",
              "      <script>\n",
              "        const buttonEl =\n",
              "          document.querySelector('#df-c844694c-3c84-4c02-b3e8-e4737b70d923 button.colab-df-convert');\n",
              "        buttonEl.style.display =\n",
              "          google.colab.kernel.accessAllowed ? 'block' : 'none';\n",
              "\n",
              "        async function convertToInteractive(key) {\n",
              "          const element = document.querySelector('#df-c844694c-3c84-4c02-b3e8-e4737b70d923');\n",
              "          const dataTable =\n",
              "            await google.colab.kernel.invokeFunction('convertToInteractive',\n",
              "                                                     [key], {});\n",
              "          if (!dataTable) return;\n",
              "\n",
              "          const docLinkHtml = 'Like what you see? Visit the ' +\n",
              "            '<a target=\"_blank\" href=https://colab.research.google.com/notebooks/data_table.ipynb>data table notebook</a>'\n",
              "            + ' to learn more about interactive tables.';\n",
              "          element.innerHTML = '';\n",
              "          dataTable['output_type'] = 'display_data';\n",
              "          await google.colab.output.renderOutput(dataTable, element);\n",
              "          const docLink = document.createElement('div');\n",
              "          docLink.innerHTML = docLinkHtml;\n",
              "          element.appendChild(docLink);\n",
              "        }\n",
              "      </script>\n",
              "    </div>\n",
              "  </div>\n",
              "  "
            ]
          },
          "metadata": {},
          "execution_count": 39
        }
      ]
    },
    {
      "cell_type": "code",
      "execution_count": 40,
      "metadata": {
        "id": "PYmiiF9x-3hG",
        "colab": {
          "base_uri": "https://localhost:8080/"
        },
        "outputId": "326750fa-ceac-4333-babf-0877c5d2daa6"
      },
      "outputs": [
        {
          "output_type": "stream",
          "name": "stdout",
          "text": [
            "(9, 2)\n"
          ]
        }
      ],
      "source": [
        "# Exploratory data analysis\n",
        "\n",
        "# View the dimensions of df\n",
        "\n",
        "print(df.shape)"
      ]
    },
    {
      "cell_type": "markdown",
      "metadata": {
        "id": "ZXLQ0sR7-3hH"
      },
      "source": [
        "### pandas head() method\n",
        "\n",
        "I viewed the top 5 rows of the pandas dataframe with the pandas head() method."
      ]
    },
    {
      "cell_type": "code",
      "execution_count": 41,
      "metadata": {
        "id": "gsPDWHZf-3hH",
        "colab": {
          "base_uri": "https://localhost:8080/"
        },
        "outputId": "e3a835c0-23ae-4517-ca43-7144703d0ecd"
      },
      "outputs": [
        {
          "output_type": "stream",
          "name": "stdout",
          "text": [
            "   34  78\n",
            "0  67  77\n",
            "1  67  23\n",
            "2  32  45\n",
            "3  89  23\n",
            "4  24  56\n"
          ]
        }
      ],
      "source": [
        "# View the top 5 rows of df\n",
        "\n",
        "print(df.head())"
      ]
    },
    {
      "cell_type": "markdown",
      "metadata": {
        "id": "zCUcjnjH-3hI"
      },
      "source": [
        "### pandas columns attribute\n",
        "\n",
        "I renamed the column labels of the dataframe with the columns attribute."
      ]
    },
    {
      "cell_type": "code",
      "execution_count": 42,
      "metadata": {
        "id": "1m6F9cwz-3hI"
      },
      "outputs": [],
      "source": [
        "# Rename columns of df dataframe\n",
        "\n",
        "df.columns = ['rohit sharma','virat kohli']"
      ]
    },
    {
      "cell_type": "markdown",
      "metadata": {
        "id": "42eUJO7e-3hI"
      },
      "source": [
        "### column names renamed\n",
        "\n",
        "I viewed the renamed column names."
      ]
    },
    {
      "cell_type": "code",
      "execution_count": 43,
      "metadata": {
        "id": "Cd-GmMGp-3hI",
        "colab": {
          "base_uri": "https://localhost:8080/"
        },
        "outputId": "4e6078c9-fd0e-43a6-d2e7-7b6df75eec54"
      },
      "outputs": [
        {
          "output_type": "stream",
          "name": "stdout",
          "text": [
            "   rohit sharma  virat kohli\n",
            "0            67           77\n",
            "1            67           23\n",
            "2            32           45\n",
            "3            89           23\n",
            "4            24           56\n"
          ]
        }
      ],
      "source": [
        "# View the top 5 rows of df with column names renamed\n",
        "\n",
        "print(df.head())"
      ]
    },
    {
      "cell_type": "markdown",
      "metadata": {
        "id": "nJ6EyKPZ-3hJ"
      },
      "source": [
        "### pandas info() method\n",
        "\n",
        "I viewed the summary of the dataframe with the pandas info() method."
      ]
    },
    {
      "cell_type": "code",
      "execution_count": 44,
      "metadata": {
        "id": "bS00PllS-3hJ",
        "colab": {
          "base_uri": "https://localhost:8080/"
        },
        "outputId": "f991ec5f-618e-44c6-d710-cb6a479c3cac"
      },
      "outputs": [
        {
          "output_type": "stream",
          "name": "stdout",
          "text": [
            "<class 'pandas.core.frame.DataFrame'>\n",
            "RangeIndex: 9 entries, 0 to 8\n",
            "Data columns (total 2 columns):\n",
            " #   Column        Non-Null Count  Dtype\n",
            "---  ------        --------------  -----\n",
            " 0   rohit sharma  9 non-null      int64\n",
            " 1   virat kohli   9 non-null      int64\n",
            "dtypes: int64(2)\n",
            "memory usage: 272.0 bytes\n",
            "None\n"
          ]
        }
      ],
      "source": [
        "# View dataframe summary\n",
        "\n",
        "print(df.info())"
      ]
    },
    {
      "cell_type": "markdown",
      "metadata": {
        "id": "OL7yPB7_-3hJ"
      },
      "source": [
        "### pandas describe() method\n",
        "\n",
        "I look at the descriptive statistics of the dataframe with the pandas describe() method."
      ]
    },
    {
      "cell_type": "code",
      "execution_count": 45,
      "metadata": {
        "id": "SplsDdWf-3hK",
        "colab": {
          "base_uri": "https://localhost:8080/"
        },
        "outputId": "f7cd3c77-cf9d-452e-fe7b-0f429ef7708d"
      },
      "outputs": [
        {
          "output_type": "stream",
          "name": "stdout",
          "text": [
            "       rohit sharma  virat kohli\n",
            "count      9.000000     9.000000\n",
            "mean      53.444444    63.111111\n",
            "std       30.091989    28.624484\n",
            "min       17.000000    23.000000\n",
            "25%       24.000000    45.000000\n",
            "50%       65.000000    69.000000\n",
            "75%       67.000000    78.000000\n",
            "max       97.000000   100.000000\n"
          ]
        }
      ],
      "source": [
        "# View descriptive statistics\n",
        "\n",
        "print(df.describe())"
      ]
    },
    {
      "cell_type": "markdown",
      "metadata": {
        "id": "DVE2v1o7-3hK"
      },
      "source": [
        "## Independent and Dependent Variables\n",
        "\n",
        "\n",
        "In this project, I refer Independent variable as Feature variable and Dependent variable as Target variable. These variables are also recognized by different names as follows: -\n",
        "\n",
        "\n",
        "### Independent variable\n",
        "\n",
        "Independent variable is also called Input variable and is denoted by X. In practical applications, independent variable is also called Feature variable or Predictor variable. We can denote it as:-\n",
        "\n",
        "Independent or Input variable (X) = Feature variable = Predictor variable \n",
        "\n",
        "\n",
        "### Dependent variable\n",
        "\n",
        "Dependent variable is also called Output variable and is denoted by y. \n",
        "\n",
        "Dependent variable is also called Target variable or Response variable. It can be denoted it as follows:-\n",
        "\n",
        "Dependent or Output variable (y) = Target variable = Response variable\n"
      ]
    },
    {
      "cell_type": "code",
      "execution_count": 48,
      "metadata": {
        "id": "bIQ-wZ_1-3hK"
      },
      "outputs": [],
      "source": [
        "# Declare feature variable and target variable\n",
        "\n",
        "X = df['rohit sharma'].values\n",
        "y = df['virat kohli'].values\n",
        "\n",
        "# Sales and Advertising data values are given by X and y respectively.\n",
        "\n",
        "# Values attribute of pandas dataframe returns the numpy arrays."
      ]
    },
    {
      "cell_type": "markdown",
      "metadata": {
        "id": "HwO5EVCP-3hK"
      },
      "source": [
        "## Visual exploratory data analysis\n",
        "\n",
        "I visualize the relationship between X and y by plotting a scatterplot between X and y."
      ]
    },
    {
      "cell_type": "code",
      "execution_count": 49,
      "metadata": {
        "id": "fx_k5t21-3hL",
        "colab": {
          "base_uri": "https://localhost:8080/",
          "height": 295
        },
        "outputId": "d84d6aad-cfac-4705-cae1-45d9debc20d6"
      },
      "outputs": [
        {
          "output_type": "display_data",
          "data": {
            "text/plain": [
              "<Figure size 432x288 with 1 Axes>"
            ],
            "image/png": "[encoded data removed]"
          },
          "metadata": {
            "needs_background": "light"
          }
        }
      ],
      "source": [
        "# Plot scatter plot between X and y\n",
        "\n",
        "plt.scatter(X, y, color = 'blue', label='Scatter Plot')\n",
        "plt.title('Relationship between Sales and Advertising')\n",
        "plt.xlabel('Sales')\n",
        "plt.ylabel('Advertising')\n",
        "plt.legend(loc=4)\n",
        "plt.show()"
      ]
    },
    {
      "cell_type": "markdown",
      "metadata": {
        "id": "D0YtFwcI-3hL"
      },
      "source": [
        "## Checking dimensions of X and y\n",
        "\n",
        "We need to check the dimensions of X and y to make sure they are in right format for Scikit-Learn API. \n",
        "\n",
        "It is an important precursor to model building. "
      ]
    },
    {
      "cell_type": "code",
      "execution_count": 50,
      "metadata": {
        "id": "xMrorPNz-3hL",
        "colab": {
          "base_uri": "https://localhost:8080/"
        },
        "outputId": "7e597a60-8e83-4f81-ff02-9783c27a45f5"
      },
      "outputs": [
        {
          "output_type": "stream",
          "name": "stdout",
          "text": [
            "(9,)\n",
            "(9,)\n"
          ]
        }
      ],
      "source": [
        "# Print the dimensions of X and y\n",
        "\n",
        "print(X.shape)\n",
        "print(y.shape)"
      ]
    },
    {
      "cell_type": "markdown",
      "metadata": {
        "id": "N57xk7Y_-3hL"
      },
      "source": [
        "## Reshaping X and y\n",
        "\n",
        "Since we are working with only one feature variable, so we need to reshape using Numpy reshape() method.\n",
        "\n",
        "It specifies first dimension to be -1, which means \"unspecified\".\n",
        "\n",
        "Its value is inferred from the length of the array and the remaining dimensions.\n"
      ]
    },
    {
      "cell_type": "code",
      "execution_count": 51,
      "metadata": {
        "id": "BhhvwoMv-3hL"
      },
      "outputs": [],
      "source": [
        "# Reshape X and y\n",
        "\n",
        "X = X.reshape(-1,1)\n",
        "y = y.reshape(-1,1)\n"
      ]
    },
    {
      "cell_type": "code",
      "execution_count": 52,
      "metadata": {
        "id": "fXt72DVL-3hM",
        "colab": {
          "base_uri": "https://localhost:8080/"
        },
        "outputId": "7adb8a7a-d455-45c5-f400-a3ed3f3974e3"
      },
      "outputs": [
        {
          "output_type": "stream",
          "name": "stdout",
          "text": [
            "(9, 1)\n",
            "(9, 1)\n"
          ]
        }
      ],
      "source": [
        "# Print the dimensions of X and y after reshaping\n",
        "\n",
        "print(X.shape)\n",
        "print(y.shape)\n"
      ]
    },
    {
      "cell_type": "markdown",
      "metadata": {
        "id": "cQynklzJ-3hM"
      },
      "source": [
        "## Difference in dimensions of X and y after reshaping\n",
        "\n",
        "\n",
        "We can see the difference in diminsions of X and y before and after reshaping.\n",
        "\n",
        "It is essential in this case because getting the feature and target variable right is an important precursor to model building."
      ]
    },
    {
      "cell_type": "markdown",
      "metadata": {
        "id": "MagIzI9q-3hM"
      },
      "source": [
        "\n",
        "## Train test split\n",
        "\n",
        "\n",
        "I split the dataset into two sets namely - train set and test set.\n",
        "\n",
        "The model learn the relationships from the training data and predict on test data.\n"
      ]
    },
    {
      "cell_type": "code",
      "execution_count": 53,
      "metadata": {
        "id": "gn2y76ss-3hM"
      },
      "outputs": [],
      "source": [
        "# Split X and y into training and test data sets\n",
        "\n",
        "from sklearn.model_selection import train_test_split\n",
        "X_train,X_test,y_train,y_test = train_test_split(X, y, test_size=0.33, random_state=42)\n",
        "\n"
      ]
    },
    {
      "cell_type": "code",
      "execution_count": 54,
      "metadata": {
        "id": "RDc-7mfM-3hM",
        "colab": {
          "base_uri": "https://localhost:8080/"
        },
        "outputId": "cb529c73-4aaa-4633-8e3d-a4dd2ea2a666"
      },
      "outputs": [
        {
          "output_type": "stream",
          "name": "stdout",
          "text": [
            "(6, 1)\n",
            "(6, 1)\n",
            "(3, 1)\n",
            "(3, 1)\n"
          ]
        }
      ],
      "source": [
        "# Print the dimensions of X_train,X_test,y_train,y_test\n",
        "\n",
        "print(X_train.shape)\n",
        "print(y_train.shape)\n",
        "print(X_test.shape)\n",
        "print(y_test.shape)"
      ]
    },
    {
      "cell_type": "markdown",
      "metadata": {
        "id": "56YkkN9Q-3hN"
      },
      "source": [
        "## Mechanics of the model\n",
        "\n",
        "\n",
        "I split the dataset into two sets – the training set and the test set. Then, I instantiate the regressor lm and fit it on the training set with the fit method. \n",
        "\n",
        "In this step, the model learned the relationships between the training data (X_train, y_train). \n",
        "\n",
        "Now the model is ready to make predictions on the test data (X_test). Hence, I predict on the test data using the predict method. \n"
      ]
    },
    {
      "cell_type": "code",
      "execution_count": 55,
      "metadata": {
        "id": "PPG_YV8L-3hN"
      },
      "outputs": [],
      "source": [
        "# Fit the linear model\n",
        "\n",
        "# Instantiate the linear regression object lm\n",
        "from sklearn.linear_model import LinearRegression\n",
        "lm = LinearRegression()\n",
        "\n",
        "\n",
        "# Train the model using training data sets\n",
        "lm.fit(X_train,y_train)\n",
        "\n",
        "\n",
        "# Predict on the test data\n",
        "y_pred=lm.predict(X_test)"
      ]
    },
    {
      "cell_type": "code",
      "source": [
        "type(X_test)"
      ],
      "metadata": {
        "id": "LXwjZi8TGUo4",
        "colab": {
          "base_uri": "https://localhost:8080/"
        },
        "outputId": "77c3758c-6319-4ef4-abcc-b4b84a1ce477"
      },
      "execution_count": 56,
      "outputs": [
        {
          "output_type": "execute_result",
          "data": {
            "text/plain": [
              "numpy.ndarray"
            ]
          },
          "metadata": {},
          "execution_count": 56
        }
      ]
    },
    {
      "cell_type": "markdown",
      "metadata": {
        "id": "iEF6FHS--3hN"
      },
      "source": [
        "## Model slope and intercept term\n",
        "\n",
        "The model slope is given by lm.coef_ and model intercept term is given by lm.intercept_. \n",
        "\n",
        "The estimated model slope and intercept values are 1.60509347 and  -11.16003616.\n",
        "\n",
        "So, the equation of the fitted regression line is\n",
        "\n",
        "y = 1.60509347 * x - 11.16003616  \n"
      ]
    },
    {
      "cell_type": "code",
      "execution_count": 57,
      "metadata": {
        "id": "1u-phLZa-3hO",
        "colab": {
          "base_uri": "https://localhost:8080/"
        },
        "outputId": "07c768c2-c41b-49c3-9339-50ff5a1d44fa"
      },
      "outputs": [
        {
          "output_type": "stream",
          "name": "stdout",
          "text": [
            "Estimated model slope, a: [[-0.47474502]]\n",
            "Estimated model intercept, b: (array([84.92917274]),)\n"
          ]
        }
      ],
      "source": [
        "# Compute model slope and intercept\n",
        "\n",
        "a = lm.coef_\n",
        "b = lm.intercept_,\n",
        "print(\"Estimated model slope, a:\" , a)\n",
        "print(\"Estimated model intercept, b:\" , b) \n"
      ]
    },
    {
      "cell_type": "markdown",
      "metadata": {
        "id": "W9djQC58-3hO"
      },
      "source": [
        "## Making predictions\n",
        "\n",
        "\n",
        "I have predicted the Advertising values on first five 5 Sales datasets by writing code\n",
        "\n",
        "\n",
        "\t\tlm.predict(X) [0:5]  \n",
        "        \n",
        "\n",
        "If I remove [0:5], then I will get predicted Advertising values for the whole Sales dataset.\n",
        "\n",
        "\n",
        "To make prediction, on an individual Sales value, I write\n",
        "\n",
        "\n",
        "\t\tlm.predict(Xi)\n",
        "        \n",
        "\n",
        "where Xi is the Sales data value of the ith observation.\n",
        "\n"
      ]
    },
    {
      "cell_type": "code",
      "source": [
        "type(X)\n",
        "userX=X\n",
        "userX.size\n",
        "print(userX)\n",
        "userX=[[100]]"
      ],
      "metadata": {
        "id": "hIG3GO85hNgW",
        "outputId": "6b902eb1-9278-4419-d008-716f0a81126a",
        "colab": {
          "base_uri": "https://localhost:8080/"
        }
      },
      "execution_count": 58,
      "outputs": [
        {
          "output_type": "stream",
          "name": "stdout",
          "text": [
            "[[67]\n",
            " [67]\n",
            " [32]\n",
            " [89]\n",
            " [24]\n",
            " [97]\n",
            " [65]\n",
            " [23]\n",
            " [17]]\n"
          ]
        }
      ]
    },
    {
      "cell_type": "code",
      "execution_count": 59,
      "metadata": {
        "id": "_OIu08vR-3hO",
        "colab": {
          "base_uri": "https://localhost:8080/"
        },
        "outputId": "fe4b0993-b9b2-4b78-87fb-afa93f633d27"
      },
      "outputs": [
        {
          "output_type": "execute_result",
          "data": {
            "text/plain": [
              "array([[53.12125627],\n",
              "       [53.12125627],\n",
              "       [69.73733204],\n",
              "       [42.67686579],\n",
              "       [73.53529221]])"
            ]
          },
          "metadata": {},
          "execution_count": 59
        }
      ],
      "source": [
        "# Predicting Advertising values\n",
        "\n",
        "lm.predict(X)[0:5]\n",
        "\n",
        "# Predicting Advertising values on first five Sales values."
      ]
    },
    {
      "cell_type": "code",
      "source": [
        "lm.predict(userX)"
      ],
      "metadata": {
        "id": "VWbVW9pchiAe",
        "outputId": "7a7ecf21-8c05-40d6-8292-ec0147a98f78",
        "colab": {
          "base_uri": "https://localhost:8080/"
        }
      },
      "execution_count": 60,
      "outputs": [
        {
          "output_type": "execute_result",
          "data": {
            "text/plain": [
              "array([[37.45467055]])"
            ]
          },
          "metadata": {},
          "execution_count": 60
        }
      ]
    },
    {
      "cell_type": "markdown",
      "metadata": {
        "id": "zPWwxOzu-3hP"
      },
      "source": [
        "## Regression metrics for model performance\n",
        "\n",
        "\n",
        "Now, it is the time to evaluate model performance. \n",
        "\n",
        "For regression problems, there are two ways to compute the model performance. They are RMSE (Root Mean Square Error) and R-Squared Value. These are explained below:-  \n",
        "\n",
        "\n",
        "### RMSE\n",
        "\n",
        "RMSE is the standard deviation of the residuals. So, RMSE gives us the standard deviation of the unexplained variance by the model. It can be calculated by taking square root of Mean Squared Error.\n",
        "RMSE is an absolute measure of fit. It gives us how spread the residuals are, given by the standard deviation of the residuals. The more concentrated the data is around the regression line, the lower the residuals and hence lower the standard deviation of residuals. It results in lower values of RMSE. So, lower values of RMSE indicate better fit of data. \n"
      ]
    },
    {
      "cell_type": "code",
      "execution_count": 61,
      "metadata": {
        "id": "-OcZOX-V-3hP",
        "colab": {
          "base_uri": "https://localhost:8080/"
        },
        "outputId": "241863a8-d200-4581-81c3-2bd7af5423f0"
      },
      "outputs": [
        {
          "output_type": "stream",
          "name": "stdout",
          "text": [
            "RMSE value: 31.4446\n"
          ]
        }
      ],
      "source": [
        "# Calculate and print Root Mean Square Error(RMSE)\n",
        "\n",
        "from sklearn.metrics import mean_squared_error\n",
        "mse = mean_squared_error(y_test, y_pred)\n",
        "rmse = np.sqrt(mse)\n",
        "print(\"RMSE value: {:.4f}\".format(rmse))\n"
      ]
    },
    {
      "cell_type": "markdown",
      "metadata": {
        "id": "1QkTCvRl-3hP"
      },
      "source": [
        "###  R2 Score\n",
        "\n",
        "\n",
        "R2 Score is another metric to evaluate performance of a regression model. It is also called coefficient of determination. It gives us an idea of goodness of fit for the linear regression models. It indicates the percentage of variance that is explained by the model. \n",
        "\n",
        "\n",
        "Mathematically, \n",
        "\n",
        "\n",
        "R2 Score = Explained Variation/Total Variation\n",
        "\n",
        "\n",
        "In general, the higher the R2 Score value, the better the model fits the data. Usually, its value ranges from 0 to 1. So, we want its value to be as close to 1. Its value can become negative if our model is wrong.\n",
        "\n"
      ]
    },
    {
      "cell_type": "code",
      "execution_count": 62,
      "metadata": {
        "id": "d22Dgdf4-3hP",
        "colab": {
          "base_uri": "https://localhost:8080/"
        },
        "outputId": "ea54f1db-4d2a-4088-91e2-56c916af05a3"
      },
      "outputs": [
        {
          "output_type": "stream",
          "name": "stdout",
          "text": [
            "R2 Score value: -0.0042\n"
          ]
        }
      ],
      "source": [
        "# Calculate and print r2_score\n",
        "\n",
        "from sklearn.metrics import r2_score\n",
        "print (\"R2 Score value: {:.4f}\".format(r2_score(y_test, y_pred)))\n"
      ]
    },
    {
      "cell_type": "markdown",
      "metadata": {
        "id": "7jrUdflS-3hQ"
      },
      "source": [
        "## Interpretation and Conclusion\n",
        "\n",
        "\n",
        "The RMSE value has been found to be 11.2273. It means the standard deviation for our prediction is 11.2273. So, sometimes we expect the predictions to be off by more than 11.2273 and other times we expect less than 11.2273. So, the model is not good fit to the data. \n",
        "\n",
        "\n",
        "In business decisions, the benchmark for the R2 score value is 0.7. It means if R2 score value >= 0.7, then the model is good enough to deploy on unseen data whereas if R2 score value < 0.7, then the model is not good enough to deploy. Our R2 score value has been found to be .5789. It means that this model explains 57.89 % of the variance in our dependent variable. So, the R2 score value confirms that the model is not good enough to deploy because it does not provide good fit to the data.\n"
      ]
    },
    {
      "cell_type": "code",
      "execution_count": 64,
      "metadata": {
        "id": "K1PQ1rQH-3hQ",
        "colab": {
          "base_uri": "https://localhost:8080/",
          "height": 295
        },
        "outputId": "40c0eb9e-1f4f-4ab1-e83d-0b68bffee812"
      },
      "outputs": [
        {
          "output_type": "display_data",
          "data": {
            "text/plain": [
              "<Figure size 432x288 with 1 Axes>"
            ],
            "image/png": "[encoded data removed]"
          },
          "metadata": {
            "needs_background": "light"
          }
        }
      ],
      "source": [
        "# Plot the Regression Line\n",
        "\n",
        "\n",
        "plt.scatter(X, y, color = 'blue', label='Scatter Plot')\n",
        "plt.plot(X_test, y_pred, color = 'black', linewidth=3, label = 'Regression Line')\n",
        "plt.title('Relationship between Sales and Advertising')\n",
        "plt.xlabel('Sales')\n",
        "plt.ylabel('Advertising')\n",
        "plt.legend(loc=4)\n",
        "plt.show()\n"
      ]
    },
    {
      "cell_type": "markdown",
      "metadata": {
        "id": "AvD57tOg-3hQ"
      },
      "source": [
        "## Residual analysis\n",
        "\n",
        "\n",
        "\n",
        "A linear regression model may not represent the data appropriately. The model may be a poor fit to the data. So, we should validate our model by defining and examining residual plots.\n",
        "\n",
        "The difference between the observed value of the dependent variable (y) and the predicted value (ŷi) is called the residual and is denoted by e. The scatter-plot of these residuals is called residual plot.\n",
        "\n",
        "If the data points in a residual plot are randomly dispersed around horizontal axis and an approximate zero residual mean, a linear regression model may be appropriate for the data. Otherwise a non-linear model may be more appropriate.\n",
        "\n",
        "If we take a look at the generated ‘Residual errors’ plot, we can clearly see that the train data plot pattern is non-random. Same is the case with the test data plot pattern.\n",
        "So, it suggests a better-fit for a non-linear model. \n",
        "\n"
      ]
    },
    {
      "cell_type": "code",
      "execution_count": 65,
      "metadata": {
        "id": "zKON78lY-3hQ",
        "colab": {
          "base_uri": "https://localhost:8080/",
          "height": 281
        },
        "outputId": "cbfb3d39-2bf9-4c89-9af3-caa7cd25a5ba"
      },
      "outputs": [
        {
          "output_type": "display_data",
          "data": {
            "text/plain": [
              "<Figure size 432x288 with 1 Axes>"
            ],
            "image/png": "[encoded data removed]"
          },
          "metadata": {
            "needs_background": "light"
          }
        }
      ],
      "source": [
        "# Plotting residual errors\n",
        "\n",
        "plt.scatter(lm.predict(X_train), lm.predict(X_train) - y_train, color = 'red', label = 'Train data')\n",
        "plt.scatter(lm.predict(X_test), lm.predict(X_test) - y_test, color = 'blue', label = 'Test data')\n",
        "plt.hlines(xmin = 0, xmax = 50, y = 0, linewidth = 3)\n",
        "plt.title('Residual errors')\n",
        "plt.legend(loc = 4)\n",
        "plt.show()"
      ]
    },
    {
      "cell_type": "markdown",
      "metadata": {
        "id": "R0rhamg_-3hR"
      },
      "source": [
        "## Checking for Overfitting and Underfitting\n",
        "\n",
        "\n",
        "I calculate training set score as 0.2861. Similarly, I calculate test set score as 0.5789. \n",
        "The training set score is very poor. So, the model does not learn the relationships appropriately from the training data. Thus, the model performs poorly on the training data. It is a clear sign of Underfitting. Hence, I validated my finding that the linear regression model does not provide good fit to the data. \n",
        "\n",
        "\n",
        "Underfitting means our model performs poorly on the training data. It means the model does not capture the relationships between the training data. This problem can be improved by increasing model complexity. We should use more powerful models like Polynomial regression to increase model complexity. \n"
      ]
    },
    {
      "cell_type": "code",
      "execution_count": 66,
      "metadata": {
        "id": "L-9kX-RY-3hR",
        "colab": {
          "base_uri": "https://localhost:8080/"
        },
        "outputId": "b6d17c65-1469-464e-f5be-b48efcd271e5"
      },
      "outputs": [
        {
          "output_type": "stream",
          "name": "stdout",
          "text": [
            "Training set score: 0.2605\n",
            "Test set score: -0.0042\n"
          ]
        }
      ],
      "source": [
        "# Checking for Overfitting or Underfitting the data\n",
        "\n",
        "print(\"Training set score: {:.4f}\".format(lm.score(X_train,y_train)))\n",
        "\n",
        "print(\"Test set score: {:.4f}\".format(lm.score(X_test,y_test)))"
      ]
    },
    {
      "cell_type": "markdown",
      "metadata": {
        "id": "EiIIxxN2-3hR"
      },
      "source": [
        "## Simple Linear Regression - Model Assumptions\n",
        "\n",
        "\n",
        "\n",
        "The Linear Regression Model is based on several assumptions which are listed below:-\n",
        "\n",
        "i.\tLinear relationship\n",
        "ii.\tMultivariate normality\n",
        "iii.\tNo or little multicollinearity\n",
        "iv.\tNo auto-correlation\n",
        "v.\tHomoscedasticity\n",
        "\n",
        "\n",
        "### i.\tLinear relationship\n",
        "\n",
        "\n",
        "The relationship between response and feature variables should be linear. This linear relationship assumption can be tested by plotting a scatter-plot between response and feature variables.\n",
        "\n",
        "\n",
        "### ii.\tMultivariate normality\n",
        "\n",
        "The linear regression model requires all variables to be multivariate normal. A multivariate normal distribution means a vector in multiple normally distributed variables, where any linear combination of the variables is also normally distributed.\n",
        "\n",
        "\n",
        "### iii.\tNo or little multicollinearity\n",
        "\n",
        "It is assumed that there is little or no multicollinearity in the data. Multicollinearity occurs when the features (or independent variables) are highly correlated.\n",
        "\n",
        "\n",
        "### iv.\tNo auto-correlation\n",
        "\n",
        "Also, it is assumed that there is little or no auto-correlation in the data. Autocorrelation occurs when the residual errors are not independent from each other.\n",
        "\n",
        "\n",
        "### v.\tHomoscedasticity\n",
        "\n",
        "Homoscedasticity describes a situation in which the error term (that is, the noise in the model) is the same across all values of the independent variables. It means the residuals are same across the regression line. It can be checked by looking at scatter plot.\n"
      ]
    },
    {
      "cell_type": "markdown",
      "metadata": {
        "id": "FkYxblaG-3hR"
      },
      "source": [
        "## References\n",
        "\n",
        "\n",
        "The concepts and ideas in this project have been taken from the following websites and books:-\n",
        "\n",
        "i.\tMachine learning notes by Andrew Ng\n",
        "\n",
        "ii.\thttps://en.wikipedia.org/wiki/Linear_regression\n",
        "\n",
        "iii.https://en.wikipedia.org/wiki/Simple_linear_regression\n",
        "\n",
        "iv.\thttps://en.wikipedia.org/wiki/Ordinary_least_squares\n",
        "\n",
        "v.\thttps://en.wikipedia.org/wiki/Root-mean-square_deviation\n",
        "\n",
        "vi.\thttps://en.wikipedia.org/wiki/Coefficient_of_determination\n",
        "\n",
        "vii.https://www.statisticssolutions.com/assumptions-of-linear-regression/\n",
        "\n",
        "viii.Python Data Science Handbook by Jake VanderPlas\n",
        "\n",
        "ix.\tHands-On Machine Learning with Scikit Learn and Tensorflow by Aurilien Geron\n",
        "\n",
        "x.\tIntroduction to Machine Learning with Python by Andreas C Muller and Sarah Guido\n"
      ]
    }
  ],
  "metadata": {
    "kernelspec": {
      "display_name": "Python 3",
      "language": "python",
      "name": "python3"
    },
    "language_info": {
      "codemirror_mode": {
        "name": "ipython",
        "version": 3
      },
      "file_extension": ".py",
      "mimetype": "text/x-python",
      "name": "python",
      "nbconvert_exporter": "python",
      "pygments_lexer": "ipython3",
      "version": "3.6.5"
    },
    "colab": {
      "provenance": []
    }
  },
  "nbformat": 4,
  "nbformat_minor": 0
}